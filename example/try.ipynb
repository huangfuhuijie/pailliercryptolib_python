{
 "cells": [
  {
   "cell_type": "code",
   "execution_count": 1,
   "metadata": {},
   "outputs": [],
   "source": [
    "import builtins\n",
    "import datetime\n",
    "old_print = builtins.print\n",
    " \n",
    "def hook_print():\n",
    "    def my_print(*args, **kwargs):\n",
    "        old_print(datetime.datetime.now(), end=\" \")\n",
    "        old_print(*args, **kwargs)\n",
    "    builtins.print = my_print\n",
    "def unhook_print():\n",
    "    builtins.print = old_print\n",
    "hook_print()"
   ]
  },
  {
   "cell_type": "code",
   "execution_count": 8,
   "metadata": {},
   "outputs": [
    {
     "name": "stdout",
     "output_type": "stream",
     "text": [
      "2023-05-08 01:21:27.812881 1\n",
      "2023-05-08 01:21:27.999521 2\n",
      "2023-05-08 01:21:28.000070 False\n"
     ]
    }
   ],
   "source": [
    "import torch\n",
    "import torch.nn as nn\n",
    "import torch.nn.functional as F\n",
    "import math\n",
    "\n",
    "\n",
    "# bs*in_channel*in_h*in_w\n",
    "input = torch.randn(1, 1, 200, 200)\n",
    "# out_channel*inchannel*kernel_h*kernel*w\n",
    "kernel = torch.randn(1, 1, 3, 3)\n",
    "\n",
    "# bias = torch.randn(3)\n",
    "\n",
    "# 用矩阵运算实现二维卷积 考虑batch_size和channels维度\n",
    "def matrix_multiplication_for_conv2d(input, kernel,bias = 0, stride=1, padding=0):\n",
    "    if padding > 0:\n",
    "        input = F.pad(input, (padding, padding, padding, padding, 0, 0, 0, 0))\n",
    "    # 计算输出大小\n",
    "    bs, in_channels, input_h, input_w = input.shape\n",
    "    out_channel, in_channel,  kernel_h, kernel_w = kernel.shape\n",
    "\n",
    "    if bias is None:\n",
    "        bias = torch.zeros(out_channel)\n",
    "\n",
    "    output_h = (math.floor((input_h - kernel_h) / stride) + 1)\n",
    "    output_w = (math.floor((input_w - kernel_w) / stride) + 1)\n",
    "\n",
    "    # 初始化输出矩阵\n",
    "    output = torch.zeros(bs, out_channel, output_h, output_w)\n",
    "\t\n",
    "    # 不考虑性能\n",
    "    for ind in range(bs):\n",
    "        for oc in range(out_channel):\n",
    "            for ic in range(in_channel):\n",
    "                for i in range(0, input_h - kernel_h + 1, stride):\n",
    "                    for j in range(0, input_w - kernel_w + 1, stride):\n",
    "                        region = input[ind, ic, i:i + kernel_h, j: j + kernel_w]\n",
    "                        # 点乘相加\n",
    "                        output[ind, oc, int(i / stride), int(j / stride)] += torch.sum(region * kernel[oc, ic])\n",
    "            # output[ind, oc] += bias[oc]\n",
    "\n",
    "\n",
    "    return output\n",
    "\n",
    "print(1)\n",
    "\n",
    "res = matrix_multiplication_for_conv2d(input, kernel, bias = bias, padding=1, stride=2)\n",
    "\n",
    "print(2)\n",
    "\n",
    "# 验证一下\n",
    "# 调用API结果\n",
    "res2 = F.conv2d(\n",
    "    input,\n",
    "    kernel,\n",
    "    padding=1,\n",
    "    # bias=bias,\n",
    "    stride=2\n",
    ")\n",
    "\n",
    "print(torch.allclose(res, res2))"
   ]
  },
  {
   "cell_type": "code",
   "execution_count": 2,
   "metadata": {},
   "outputs": [
    {
     "name": "stdout",
     "output_type": "stream",
     "text": [
      "6453162870062910\n"
     ]
    }
   ],
   "source": [
    "import math\n",
    "import sys\n",
    "int_fixpoint = int(round(0.716445 * pow(2, 53)))\n",
    "print(int_fixpoint)"
   ]
  }
 ],
 "metadata": {
  "kernelspec": {
   "display_name": "Python 3.9.12 ('rpc')",
   "language": "python",
   "name": "python3"
  },
  "language_info": {
   "codemirror_mode": {
    "name": "ipython",
    "version": 3
   },
   "file_extension": ".py",
   "mimetype": "text/x-python",
   "name": "python",
   "nbconvert_exporter": "python",
   "pygments_lexer": "ipython3",
   "version": "3.9.12"
  },
  "orig_nbformat": 4,
  "vscode": {
   "interpreter": {
    "hash": "e01d9083ea18b49ccea44c47dca3291aa52846cff0d5b93fc9a5b6330df01166"
   }
  }
 },
 "nbformat": 4,
 "nbformat_minor": 2
}
